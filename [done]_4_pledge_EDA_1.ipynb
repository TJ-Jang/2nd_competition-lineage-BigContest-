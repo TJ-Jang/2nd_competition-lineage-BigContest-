{
 "cells": [
  {
   "cell_type": "code",
   "execution_count": null,
   "metadata": {},
   "outputs": [],
   "source": [
    "import numpy as np\n",
    "import pandas as pd"
   ]
  },
  {
   "cell_type": "code",
   "execution_count": null,
   "metadata": {},
   "outputs": [],
   "source": [
    "import multiprocessing as mp\n",
    "\n",
    "print(mp.cpu_count())"
   ]
  },
  {
   "cell_type": "code",
   "execution_count": null,
   "metadata": {},
   "outputs": [],
   "source": [
    "import os\n",
    "print(os.listdir('./Data/'))"
   ]
  },
  {
   "cell_type": "code",
   "execution_count": null,
   "metadata": {},
   "outputs": [],
   "source": [
    "tr_pledge = pd.read_csv('./Data/train_pledge.csv')\n",
    "t1_pledge = pd.read_csv('./Data/test1_pledge.csv')\n",
    "t2_pledge = pd.read_csv('./Data/test2_pledge.csv')"
   ]
  },
  {
   "cell_type": "code",
   "execution_count": null,
   "metadata": {},
   "outputs": [],
   "source": [
    "print(tr_pledge.shape)\n",
    "tr_pledge.head()"
   ]
  },
  {
   "cell_type": "code",
   "execution_count": null,
   "metadata": {},
   "outputs": [],
   "source": [
    "print(t1_pledge.shape)\n",
    "t1_pledge.head()"
   ]
  },
  {
   "cell_type": "code",
   "execution_count": null,
   "metadata": {
    "scrolled": true
   },
   "outputs": [],
   "source": [
    "print(t2_pledge.shape)\n",
    "t2_pledge.head()"
   ]
  },
  {
   "cell_type": "code",
   "execution_count": null,
   "metadata": {
    "scrolled": true
   },
   "outputs": [],
   "source": [
    "pledge_columns = tr_pledge.columns\n",
    "pledge_columns"
   ]
  },
  {
   "cell_type": "code",
   "execution_count": null,
   "metadata": {},
   "outputs": [],
   "source": [
    "pledge_columns = pledge_columns.drop(['day', 'acc_id', 'char_id', 'server', 'pledge_id'])"
   ]
  },
  {
   "cell_type": "code",
   "execution_count": null,
   "metadata": {},
   "outputs": [],
   "source": [
    "def change:\n",
    "    for col in pledge_columns:\n",
    "        for acc in tr_pledge.acc_id.unique():\n",
    "            tr_pledge.loc[(tr_pledge.acc_id == acc), col] = tr_pledge.loc[(tr_pledge.acc_id == acc), col].sum()"
   ]
  },
  {
   "cell_type": "code",
   "execution_count": null,
   "metadata": {},
   "outputs": [],
   "source": [
    "for col in pledge_columns:\n",
    "    for acc in t1_pledge.acc_id.unique():\n",
    "        t1_pledge.loc[(t1_pledge.acc_id == acc), col] = t1_pledge.loc[(t1_pledge.acc_id == acc), col].sum()\n",
    "    print('t1', col, 'complete')"
   ]
  },
  {
   "cell_type": "code",
   "execution_count": null,
   "metadata": {},
   "outputs": [],
   "source": [
    "for col in pledge_columns:\n",
    "    for acc in t2_pledge.acc_id.unique():\n",
    "        t2_pledge.loc[(t2_pledge.acc_id == acc), col] = t2_pledge.loc[(t2_pledge.acc_id == acc), col].sum()\n",
    "    print('t2', col, 'complete')"
   ]
  },
  {
   "cell_type": "code",
   "execution_count": null,
   "metadata": {},
   "outputs": [],
   "source": [
    "tr_pledge = tr_pledge.drop(['day', 'server', 'char_id', 'pledge_id'], axis = 1)\n",
    "t1_pledge = t1_pledge.drop(['day', 'server', 'char_id', 'pledge_id'], axis = 1)\n",
    "t2_pledge = t2_pledge.drop(['day', 'server', 'char_id', 'pledge_id'], axis = 1)"
   ]
  },
  {
   "cell_type": "code",
   "execution_count": null,
   "metadata": {},
   "outputs": [],
   "source": [
    "tr_pledge = tr_pledge.drop_duplicates()\n",
    "t1_pledge = t1_pledge.drop_duplicates()\n",
    "t2_pledge = t2_pledge.drop_duplicates()"
   ]
  },
  {
   "cell_type": "code",
   "execution_count": null,
   "metadata": {},
   "outputs": [],
   "source": [
    "tr_pledge.to_csv('./input/EDA(1)_train_pledge.csv', index = False)\n",
    "t1_pledge.to_csv('./input/EDA(1)_test1_pledge.csv', index = False)\n",
    "t2_pledge.to_csv('./input/EDA(1)_test2_pledge.csv', index = False)"
   ]
  },
  {
   "cell_type": "code",
   "execution_count": null,
   "metadata": {},
   "outputs": [],
   "source": [
    "tr_pledge.head()"
   ]
  },
  {
   "cell_type": "code",
   "execution_count": null,
   "metadata": {},
   "outputs": [],
   "source": [
    "tr_label = pd.read_csv('./Data/train_label.csv')"
   ]
  },
  {
   "cell_type": "code",
   "execution_count": null,
   "metadata": {},
   "outputs": [],
   "source": [
    "tr_label = tr_label.merge(tr_pledge, on='acc_id')"
   ]
  },
  {
   "cell_type": "code",
   "execution_count": null,
   "metadata": {},
   "outputs": [],
   "source": [
    "tr_label.head()"
   ]
  },
  {
   "cell_type": "code",
   "execution_count": null,
   "metadata": {},
   "outputs": [],
   "source": [
    "pip install pandas-multiprocess"
   ]
  },
  {
   "cell_type": "code",
   "execution_count": null,
   "metadata": {},
   "outputs": [],
   "source": [
    "import multiprocessing as mp\n",
    "\n",
    "print(mp.cpu_count())"
   ]
  },
  {
   "cell_type": "code",
   "execution_count": null,
   "metadata": {},
   "outputs": [],
   "source": [
    "print(t1_pledge.acc_id.unique().shape[0])"
   ]
  },
  {
   "cell_type": "code",
   "execution_count": null,
   "metadata": {},
   "outputs": [],
   "source": []
  }
 ],
 "metadata": {
  "kernelspec": {
   "display_name": "Python 3",
   "language": "python",
   "name": "python3"
  },
  "language_info": {
   "codemirror_mode": {
    "name": "ipython",
    "version": 3
   },
   "file_extension": ".py",
   "mimetype": "text/x-python",
   "name": "python",
   "nbconvert_exporter": "python",
   "pygments_lexer": "ipython3",
   "version": "3.7.3"
  }
 },
 "nbformat": 4,
 "nbformat_minor": 2
}
