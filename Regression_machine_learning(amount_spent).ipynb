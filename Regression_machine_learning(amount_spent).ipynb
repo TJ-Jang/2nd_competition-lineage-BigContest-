{
 "cells": [
  {
   "cell_type": "code",
   "execution_count": 1,
   "metadata": {},
   "outputs": [
    {
     "name": "stdout",
     "output_type": "stream",
     "text": [
      "['EDA(1)_test1_activity.csv', 'EDA(1)_test1_combat.csv', 'EDA(1)_test1_payment.csv', 'EDA(1)_test1_pledge.csv', 'EDA(1)_test1_source_trade.csv', 'EDA(1)_test1_target_trade.csv', 'EDA(1)_test2_activity.csv', 'EDA(1)_test2_combat.csv', 'EDA(1)_test2_payment.csv', 'EDA(1)_test2_pledge.csv', 'EDA(1)_train_activity.csv', 'EDA(1)_train_combat.csv', 'EDA(1)_train_payment.csv', 'EDA(1)_train_pledge.csv', 'EDA(1)_train_source_trade.csv', 'EDA(1)_train_target_trade.csv', 'EDA(2)_test1_combat.csv', 'EDA(2)_test2_combat.csv', 'EDA(2)_train_combat.csv', 'sort_train_label.csv']\n"
     ]
    }
   ],
   "source": [
    "import pandas as pd\n",
    "import numpy as np\n",
    "\n",
    "import os\n",
    "print(os.listdir('./input/'))"
   ]
  },
  {
   "cell_type": "code",
   "execution_count": 2,
   "metadata": {},
   "outputs": [],
   "source": [
    "tr_act = pd.read_csv('./input/EDA(1)_train_activity.csv')\n",
    "tr_combat = pd.read_csv('./input/EDA(2)_train_combat.csv')\n",
    "tr_pledge = pd.read_csv('./input/EDA(1)_train_pledge.csv')\n",
    "tr_label = pd.read_csv('./Data/train_label.csv')"
   ]
  },
  {
   "cell_type": "code",
   "execution_count": 3,
   "metadata": {},
   "outputs": [
    {
     "name": "stdout",
     "output_type": "stream",
     "text": [
      "40000\n",
      "40000\n",
      "33854\n"
     ]
    }
   ],
   "source": [
    "print(len(tr_act.acc_id.unique()))\n",
    "print(len(tr_combat.acc_id.unique()))\n",
    "print(len(tr_pledge.acc_id.unique()))"
   ]
  },
  {
   "cell_type": "code",
   "execution_count": 4,
   "metadata": {},
   "outputs": [],
   "source": [
    "train = tr_label.merge(tr_act, on='acc_id', how='outer')\n",
    "train = train.merge(tr_combat, on='acc_id', how='outer')"
   ]
  },
  {
   "cell_type": "code",
   "execution_count": 5,
   "metadata": {},
   "outputs": [],
   "source": [
    "t1_act = pd.read_csv('./input/EDA(1)_test1_activity.csv')\n",
    "t1_combat = pd.read_csv('./input/EDA(2)_test1_combat.csv')\n",
    "t1_pledge = pd.read_csv('./input/EDA(1)_test1_pledge.csv')"
   ]
  },
  {
   "cell_type": "code",
   "execution_count": 6,
   "metadata": {},
   "outputs": [],
   "source": [
    "t2_act = pd.read_csv('./input/EDA(1)_test2_activity.csv')\n",
    "t2_combat = pd.read_csv('./input/EDA(2)_test2_combat.csv')"
   ]
  },
  {
   "cell_type": "code",
   "execution_count": 7,
   "metadata": {},
   "outputs": [],
   "source": [
    "test1 = t1_act.merge(t1_combat, on='acc_id', how='outer')"
   ]
  },
  {
   "cell_type": "code",
   "execution_count": 8,
   "metadata": {},
   "outputs": [],
   "source": [
    "test1 = test1.drop_duplicates()"
   ]
  },
  {
   "cell_type": "code",
   "execution_count": 9,
   "metadata": {},
   "outputs": [],
   "source": [
    "test2 = t2_act.merge(t2_combat, on='acc_id', how='outer')"
   ]
  },
  {
   "cell_type": "code",
   "execution_count": 10,
   "metadata": {},
   "outputs": [],
   "source": [
    "test2 = test2.drop_duplicates()"
   ]
  },
  {
   "cell_type": "code",
   "execution_count": 11,
   "metadata": {
    "scrolled": false
   },
   "outputs": [
    {
     "name": "stdout",
     "output_type": "stream",
     "text": [
      "(103802, 31)\n"
     ]
    },
    {
     "data": {
      "text/html": [
       "<div>\n",
       "<style scoped>\n",
       "    .dataframe tbody tr th:only-of-type {\n",
       "        vertical-align: middle;\n",
       "    }\n",
       "\n",
       "    .dataframe tbody tr th {\n",
       "        vertical-align: top;\n",
       "    }\n",
       "\n",
       "    .dataframe thead th {\n",
       "        text-align: right;\n",
       "    }\n",
       "</style>\n",
       "<table border=\"1\" class=\"dataframe\">\n",
       "  <thead>\n",
       "    <tr style=\"text-align: right;\">\n",
       "      <th></th>\n",
       "      <th>acc_id</th>\n",
       "      <th>survival_time</th>\n",
       "      <th>amount_spent</th>\n",
       "      <th>playtime</th>\n",
       "      <th>npc_kill</th>\n",
       "      <th>solo_exp</th>\n",
       "      <th>party_exp</th>\n",
       "      <th>quest_exp</th>\n",
       "      <th>boss_monster</th>\n",
       "      <th>death</th>\n",
       "      <th>...</th>\n",
       "      <th>etc_cnt</th>\n",
       "      <th>num_opponent</th>\n",
       "      <th>class_0</th>\n",
       "      <th>class_1</th>\n",
       "      <th>class_2</th>\n",
       "      <th>class_3</th>\n",
       "      <th>class_4</th>\n",
       "      <th>class_5</th>\n",
       "      <th>class_6</th>\n",
       "      <th>class_7</th>\n",
       "    </tr>\n",
       "  </thead>\n",
       "  <tbody>\n",
       "    <tr>\n",
       "      <th>0</th>\n",
       "      <td>27835</td>\n",
       "      <td>64</td>\n",
       "      <td>0.002559</td>\n",
       "      <td>9.978209</td>\n",
       "      <td>12.747726</td>\n",
       "      <td>0.130439</td>\n",
       "      <td>0.000000</td>\n",
       "      <td>0.022510</td>\n",
       "      <td>1</td>\n",
       "      <td>0.245370</td>\n",
       "      <td>...</td>\n",
       "      <td>2.139619</td>\n",
       "      <td>1.962575</td>\n",
       "      <td>0</td>\n",
       "      <td>0</td>\n",
       "      <td>1</td>\n",
       "      <td>0</td>\n",
       "      <td>0</td>\n",
       "      <td>1</td>\n",
       "      <td>0</td>\n",
       "      <td>0</td>\n",
       "    </tr>\n",
       "    <tr>\n",
       "      <th>1</th>\n",
       "      <td>27835</td>\n",
       "      <td>64</td>\n",
       "      <td>0.002559</td>\n",
       "      <td>9.978209</td>\n",
       "      <td>12.747726</td>\n",
       "      <td>0.130439</td>\n",
       "      <td>0.000000</td>\n",
       "      <td>0.022510</td>\n",
       "      <td>1</td>\n",
       "      <td>0.245370</td>\n",
       "      <td>...</td>\n",
       "      <td>2.139619</td>\n",
       "      <td>1.962575</td>\n",
       "      <td>0</td>\n",
       "      <td>0</td>\n",
       "      <td>1</td>\n",
       "      <td>0</td>\n",
       "      <td>0</td>\n",
       "      <td>1</td>\n",
       "      <td>0</td>\n",
       "      <td>0</td>\n",
       "    </tr>\n",
       "    <tr>\n",
       "      <th>2</th>\n",
       "      <td>12351</td>\n",
       "      <td>64</td>\n",
       "      <td>0.120154</td>\n",
       "      <td>82.013292</td>\n",
       "      <td>37.056629</td>\n",
       "      <td>0.532874</td>\n",
       "      <td>0.039412</td>\n",
       "      <td>0.016449</td>\n",
       "      <td>7</td>\n",
       "      <td>0.981479</td>\n",
       "      <td>...</td>\n",
       "      <td>2.364842</td>\n",
       "      <td>12.854867</td>\n",
       "      <td>1</td>\n",
       "      <td>0</td>\n",
       "      <td>1</td>\n",
       "      <td>1</td>\n",
       "      <td>1</td>\n",
       "      <td>1</td>\n",
       "      <td>0</td>\n",
       "      <td>1</td>\n",
       "    </tr>\n",
       "    <tr>\n",
       "      <th>3</th>\n",
       "      <td>12351</td>\n",
       "      <td>64</td>\n",
       "      <td>0.120154</td>\n",
       "      <td>82.013292</td>\n",
       "      <td>37.056629</td>\n",
       "      <td>0.532874</td>\n",
       "      <td>0.039412</td>\n",
       "      <td>0.016449</td>\n",
       "      <td>7</td>\n",
       "      <td>0.981479</td>\n",
       "      <td>...</td>\n",
       "      <td>2.364842</td>\n",
       "      <td>12.854867</td>\n",
       "      <td>1</td>\n",
       "      <td>0</td>\n",
       "      <td>1</td>\n",
       "      <td>1</td>\n",
       "      <td>1</td>\n",
       "      <td>1</td>\n",
       "      <td>0</td>\n",
       "      <td>1</td>\n",
       "    </tr>\n",
       "    <tr>\n",
       "      <th>4</th>\n",
       "      <td>12351</td>\n",
       "      <td>64</td>\n",
       "      <td>0.120154</td>\n",
       "      <td>82.013292</td>\n",
       "      <td>37.056629</td>\n",
       "      <td>0.532874</td>\n",
       "      <td>0.039412</td>\n",
       "      <td>0.016449</td>\n",
       "      <td>7</td>\n",
       "      <td>0.981479</td>\n",
       "      <td>...</td>\n",
       "      <td>2.364842</td>\n",
       "      <td>12.854867</td>\n",
       "      <td>1</td>\n",
       "      <td>0</td>\n",
       "      <td>1</td>\n",
       "      <td>1</td>\n",
       "      <td>1</td>\n",
       "      <td>1</td>\n",
       "      <td>0</td>\n",
       "      <td>1</td>\n",
       "    </tr>\n",
       "  </tbody>\n",
       "</table>\n",
       "<p>5 rows × 31 columns</p>\n",
       "</div>"
      ],
      "text/plain": [
       "   acc_id  survival_time  amount_spent   playtime   npc_kill  solo_exp  \\\n",
       "0   27835             64      0.002559   9.978209  12.747726  0.130439   \n",
       "1   27835             64      0.002559   9.978209  12.747726  0.130439   \n",
       "2   12351             64      0.120154  82.013292  37.056629  0.532874   \n",
       "3   12351             64      0.120154  82.013292  37.056629  0.532874   \n",
       "4   12351             64      0.120154  82.013292  37.056629  0.532874   \n",
       "\n",
       "   party_exp  quest_exp  boss_monster     death  ...   etc_cnt  num_opponent  \\\n",
       "0   0.000000   0.022510             1  0.245370  ...  2.139619      1.962575   \n",
       "1   0.000000   0.022510             1  0.245370  ...  2.139619      1.962575   \n",
       "2   0.039412   0.016449             7  0.981479  ...  2.364842     12.854867   \n",
       "3   0.039412   0.016449             7  0.981479  ...  2.364842     12.854867   \n",
       "4   0.039412   0.016449             7  0.981479  ...  2.364842     12.854867   \n",
       "\n",
       "   class_0  class_1  class_2  class_3  class_4  class_5  class_6  class_7  \n",
       "0        0        0        1        0        0        1        0        0  \n",
       "1        0        0        1        0        0        1        0        0  \n",
       "2        1        0        1        1        1        1        0        1  \n",
       "3        1        0        1        1        1        1        0        1  \n",
       "4        1        0        1        1        1        1        0        1  \n",
       "\n",
       "[5 rows x 31 columns]"
      ]
     },
     "execution_count": 11,
     "metadata": {},
     "output_type": "execute_result"
    }
   ],
   "source": [
    "print(train.shape)\n",
    "train.head()"
   ]
  },
  {
   "cell_type": "code",
   "execution_count": 12,
   "metadata": {
    "scrolled": true
   },
   "outputs": [
    {
     "name": "stdout",
     "output_type": "stream",
     "text": [
      "(20000, 29)\n"
     ]
    },
    {
     "data": {
      "text/html": [
       "<div>\n",
       "<style scoped>\n",
       "    .dataframe tbody tr th:only-of-type {\n",
       "        vertical-align: middle;\n",
       "    }\n",
       "\n",
       "    .dataframe tbody tr th {\n",
       "        vertical-align: top;\n",
       "    }\n",
       "\n",
       "    .dataframe thead th {\n",
       "        text-align: right;\n",
       "    }\n",
       "</style>\n",
       "<table border=\"1\" class=\"dataframe\">\n",
       "  <thead>\n",
       "    <tr style=\"text-align: right;\">\n",
       "      <th></th>\n",
       "      <th>acc_id</th>\n",
       "      <th>playtime</th>\n",
       "      <th>npc_kill</th>\n",
       "      <th>solo_exp</th>\n",
       "      <th>party_exp</th>\n",
       "      <th>quest_exp</th>\n",
       "      <th>boss_monster</th>\n",
       "      <th>death</th>\n",
       "      <th>revive</th>\n",
       "      <th>exp_recovery</th>\n",
       "      <th>...</th>\n",
       "      <th>etc_cnt</th>\n",
       "      <th>num_opponent</th>\n",
       "      <th>class_0</th>\n",
       "      <th>class_1</th>\n",
       "      <th>class_2</th>\n",
       "      <th>class_3</th>\n",
       "      <th>class_4</th>\n",
       "      <th>class_5</th>\n",
       "      <th>class_6</th>\n",
       "      <th>class_7</th>\n",
       "    </tr>\n",
       "  </thead>\n",
       "  <tbody>\n",
       "    <tr>\n",
       "      <th>0</th>\n",
       "      <td>31609</td>\n",
       "      <td>13.595013</td>\n",
       "      <td>12.164742</td>\n",
       "      <td>0.167590</td>\n",
       "      <td>0.010240</td>\n",
       "      <td>0.026406</td>\n",
       "      <td>2</td>\n",
       "      <td>0.000000</td>\n",
       "      <td>0.000000</td>\n",
       "      <td>0.000000</td>\n",
       "      <td>...</td>\n",
       "      <td>0.563058</td>\n",
       "      <td>1.766318</td>\n",
       "      <td>0</td>\n",
       "      <td>1</td>\n",
       "      <td>0</td>\n",
       "      <td>0</td>\n",
       "      <td>0</td>\n",
       "      <td>0</td>\n",
       "      <td>0</td>\n",
       "      <td>0</td>\n",
       "    </tr>\n",
       "    <tr>\n",
       "      <th>1</th>\n",
       "      <td>95442</td>\n",
       "      <td>24.037766</td>\n",
       "      <td>3.774892</td>\n",
       "      <td>0.094306</td>\n",
       "      <td>0.717324</td>\n",
       "      <td>0.116473</td>\n",
       "      <td>17</td>\n",
       "      <td>0.736109</td>\n",
       "      <td>0.493639</td>\n",
       "      <td>0.000000</td>\n",
       "      <td>...</td>\n",
       "      <td>7.770195</td>\n",
       "      <td>7.850300</td>\n",
       "      <td>1</td>\n",
       "      <td>1</td>\n",
       "      <td>1</td>\n",
       "      <td>0</td>\n",
       "      <td>0</td>\n",
       "      <td>0</td>\n",
       "      <td>0</td>\n",
       "      <td>0</td>\n",
       "    </tr>\n",
       "    <tr>\n",
       "      <th>4</th>\n",
       "      <td>117641</td>\n",
       "      <td>14.813255</td>\n",
       "      <td>0.704440</td>\n",
       "      <td>0.072313</td>\n",
       "      <td>0.128837</td>\n",
       "      <td>0.016352</td>\n",
       "      <td>10</td>\n",
       "      <td>1.962958</td>\n",
       "      <td>1.974554</td>\n",
       "      <td>15.915248</td>\n",
       "      <td>...</td>\n",
       "      <td>35.697854</td>\n",
       "      <td>52.302626</td>\n",
       "      <td>1</td>\n",
       "      <td>1</td>\n",
       "      <td>1</td>\n",
       "      <td>1</td>\n",
       "      <td>0</td>\n",
       "      <td>0</td>\n",
       "      <td>0</td>\n",
       "      <td>0</td>\n",
       "    </tr>\n",
       "    <tr>\n",
       "      <th>8</th>\n",
       "      <td>16783</td>\n",
       "      <td>91.761600</td>\n",
       "      <td>86.483799</td>\n",
       "      <td>0.143200</td>\n",
       "      <td>0.000000</td>\n",
       "      <td>0.000000</td>\n",
       "      <td>0</td>\n",
       "      <td>0.736109</td>\n",
       "      <td>0.000000</td>\n",
       "      <td>0.000000</td>\n",
       "      <td>...</td>\n",
       "      <td>217.452857</td>\n",
       "      <td>68.690128</td>\n",
       "      <td>0</td>\n",
       "      <td>1</td>\n",
       "      <td>0</td>\n",
       "      <td>0</td>\n",
       "      <td>0</td>\n",
       "      <td>1</td>\n",
       "      <td>0</td>\n",
       "      <td>0</td>\n",
       "    </tr>\n",
       "    <tr>\n",
       "      <th>10</th>\n",
       "      <td>58743</td>\n",
       "      <td>2.573951</td>\n",
       "      <td>1.462522</td>\n",
       "      <td>0.090403</td>\n",
       "      <td>0.097051</td>\n",
       "      <td>0.003463</td>\n",
       "      <td>0</td>\n",
       "      <td>0.245370</td>\n",
       "      <td>0.246819</td>\n",
       "      <td>0.000000</td>\n",
       "      <td>...</td>\n",
       "      <td>0.563058</td>\n",
       "      <td>0.490644</td>\n",
       "      <td>0</td>\n",
       "      <td>1</td>\n",
       "      <td>1</td>\n",
       "      <td>1</td>\n",
       "      <td>0</td>\n",
       "      <td>0</td>\n",
       "      <td>0</td>\n",
       "      <td>0</td>\n",
       "    </tr>\n",
       "  </tbody>\n",
       "</table>\n",
       "<p>5 rows × 29 columns</p>\n",
       "</div>"
      ],
      "text/plain": [
       "    acc_id   playtime   npc_kill  solo_exp  party_exp  quest_exp  \\\n",
       "0    31609  13.595013  12.164742  0.167590   0.010240   0.026406   \n",
       "1    95442  24.037766   3.774892  0.094306   0.717324   0.116473   \n",
       "4   117641  14.813255   0.704440  0.072313   0.128837   0.016352   \n",
       "8    16783  91.761600  86.483799  0.143200   0.000000   0.000000   \n",
       "10   58743   2.573951   1.462522  0.090403   0.097051   0.003463   \n",
       "\n",
       "    boss_monster     death    revive  exp_recovery  ...     etc_cnt  \\\n",
       "0              2  0.000000  0.000000      0.000000  ...    0.563058   \n",
       "1             17  0.736109  0.493639      0.000000  ...    7.770195   \n",
       "4             10  1.962958  1.974554     15.915248  ...   35.697854   \n",
       "8              0  0.736109  0.000000      0.000000  ...  217.452857   \n",
       "10             0  0.245370  0.246819      0.000000  ...    0.563058   \n",
       "\n",
       "    num_opponent  class_0  class_1  class_2  class_3  class_4  class_5  \\\n",
       "0       1.766318        0        1        0        0        0        0   \n",
       "1       7.850300        1        1        1        0        0        0   \n",
       "4      52.302626        1        1        1        1        0        0   \n",
       "8      68.690128        0        1        0        0        0        1   \n",
       "10      0.490644        0        1        1        1        0        0   \n",
       "\n",
       "    class_6  class_7  \n",
       "0         0        0  \n",
       "1         0        0  \n",
       "4         0        0  \n",
       "8         0        0  \n",
       "10        0        0  \n",
       "\n",
       "[5 rows x 29 columns]"
      ]
     },
     "execution_count": 12,
     "metadata": {},
     "output_type": "execute_result"
    }
   ],
   "source": [
    "print(test1.shape)\n",
    "test1.head()"
   ]
  },
  {
   "cell_type": "code",
   "execution_count": 13,
   "metadata": {},
   "outputs": [],
   "source": [
    "train = train.drop('acc_id', axis = 1)\n",
    "test01 = test1.drop('acc_id', axis = 1)\n",
    "test02 = test2.drop('acc_id', axis = 1)"
   ]
  },
  {
   "cell_type": "code",
   "execution_count": 14,
   "metadata": {
    "scrolled": false
   },
   "outputs": [
    {
     "data": {
      "text/html": [
       "<div>\n",
       "<style scoped>\n",
       "    .dataframe tbody tr th:only-of-type {\n",
       "        vertical-align: middle;\n",
       "    }\n",
       "\n",
       "    .dataframe tbody tr th {\n",
       "        vertical-align: top;\n",
       "    }\n",
       "\n",
       "    .dataframe thead th {\n",
       "        text-align: right;\n",
       "    }\n",
       "</style>\n",
       "<table border=\"1\" class=\"dataframe\">\n",
       "  <thead>\n",
       "    <tr style=\"text-align: right;\">\n",
       "      <th></th>\n",
       "      <th>survival_time</th>\n",
       "      <th>amount_spent</th>\n",
       "      <th>playtime</th>\n",
       "      <th>npc_kill</th>\n",
       "      <th>solo_exp</th>\n",
       "      <th>party_exp</th>\n",
       "      <th>quest_exp</th>\n",
       "      <th>boss_monster</th>\n",
       "      <th>death</th>\n",
       "      <th>revive</th>\n",
       "      <th>...</th>\n",
       "      <th>etc_cnt</th>\n",
       "      <th>num_opponent</th>\n",
       "      <th>class_0</th>\n",
       "      <th>class_1</th>\n",
       "      <th>class_2</th>\n",
       "      <th>class_3</th>\n",
       "      <th>class_4</th>\n",
       "      <th>class_5</th>\n",
       "      <th>class_6</th>\n",
       "      <th>class_7</th>\n",
       "    </tr>\n",
       "  </thead>\n",
       "  <tbody>\n",
       "    <tr>\n",
       "      <th>0</th>\n",
       "      <td>64</td>\n",
       "      <td>0.002559</td>\n",
       "      <td>9.978209</td>\n",
       "      <td>12.747726</td>\n",
       "      <td>0.130439</td>\n",
       "      <td>0.000000</td>\n",
       "      <td>0.022510</td>\n",
       "      <td>1</td>\n",
       "      <td>0.245370</td>\n",
       "      <td>0.246819</td>\n",
       "      <td>...</td>\n",
       "      <td>2.139619</td>\n",
       "      <td>1.962575</td>\n",
       "      <td>0</td>\n",
       "      <td>0</td>\n",
       "      <td>1</td>\n",
       "      <td>0</td>\n",
       "      <td>0</td>\n",
       "      <td>1</td>\n",
       "      <td>0</td>\n",
       "      <td>0</td>\n",
       "    </tr>\n",
       "    <tr>\n",
       "      <th>1</th>\n",
       "      <td>64</td>\n",
       "      <td>0.002559</td>\n",
       "      <td>9.978209</td>\n",
       "      <td>12.747726</td>\n",
       "      <td>0.130439</td>\n",
       "      <td>0.000000</td>\n",
       "      <td>0.022510</td>\n",
       "      <td>1</td>\n",
       "      <td>0.245370</td>\n",
       "      <td>0.246819</td>\n",
       "      <td>...</td>\n",
       "      <td>2.139619</td>\n",
       "      <td>1.962575</td>\n",
       "      <td>0</td>\n",
       "      <td>0</td>\n",
       "      <td>1</td>\n",
       "      <td>0</td>\n",
       "      <td>0</td>\n",
       "      <td>1</td>\n",
       "      <td>0</td>\n",
       "      <td>0</td>\n",
       "    </tr>\n",
       "    <tr>\n",
       "      <th>2</th>\n",
       "      <td>64</td>\n",
       "      <td>0.120154</td>\n",
       "      <td>82.013292</td>\n",
       "      <td>37.056629</td>\n",
       "      <td>0.532874</td>\n",
       "      <td>0.039412</td>\n",
       "      <td>0.016449</td>\n",
       "      <td>7</td>\n",
       "      <td>0.981479</td>\n",
       "      <td>0.987277</td>\n",
       "      <td>...</td>\n",
       "      <td>2.364842</td>\n",
       "      <td>12.854867</td>\n",
       "      <td>1</td>\n",
       "      <td>0</td>\n",
       "      <td>1</td>\n",
       "      <td>1</td>\n",
       "      <td>1</td>\n",
       "      <td>1</td>\n",
       "      <td>0</td>\n",
       "      <td>1</td>\n",
       "    </tr>\n",
       "    <tr>\n",
       "      <th>3</th>\n",
       "      <td>64</td>\n",
       "      <td>0.120154</td>\n",
       "      <td>82.013292</td>\n",
       "      <td>37.056629</td>\n",
       "      <td>0.532874</td>\n",
       "      <td>0.039412</td>\n",
       "      <td>0.016449</td>\n",
       "      <td>7</td>\n",
       "      <td>0.981479</td>\n",
       "      <td>0.987277</td>\n",
       "      <td>...</td>\n",
       "      <td>2.364842</td>\n",
       "      <td>12.854867</td>\n",
       "      <td>1</td>\n",
       "      <td>0</td>\n",
       "      <td>1</td>\n",
       "      <td>1</td>\n",
       "      <td>1</td>\n",
       "      <td>1</td>\n",
       "      <td>0</td>\n",
       "      <td>1</td>\n",
       "    </tr>\n",
       "    <tr>\n",
       "      <th>4</th>\n",
       "      <td>64</td>\n",
       "      <td>0.120154</td>\n",
       "      <td>82.013292</td>\n",
       "      <td>37.056629</td>\n",
       "      <td>0.532874</td>\n",
       "      <td>0.039412</td>\n",
       "      <td>0.016449</td>\n",
       "      <td>7</td>\n",
       "      <td>0.981479</td>\n",
       "      <td>0.987277</td>\n",
       "      <td>...</td>\n",
       "      <td>2.364842</td>\n",
       "      <td>12.854867</td>\n",
       "      <td>1</td>\n",
       "      <td>0</td>\n",
       "      <td>1</td>\n",
       "      <td>1</td>\n",
       "      <td>1</td>\n",
       "      <td>1</td>\n",
       "      <td>0</td>\n",
       "      <td>1</td>\n",
       "    </tr>\n",
       "  </tbody>\n",
       "</table>\n",
       "<p>5 rows × 30 columns</p>\n",
       "</div>"
      ],
      "text/plain": [
       "   survival_time  amount_spent   playtime   npc_kill  solo_exp  party_exp  \\\n",
       "0             64      0.002559   9.978209  12.747726  0.130439   0.000000   \n",
       "1             64      0.002559   9.978209  12.747726  0.130439   0.000000   \n",
       "2             64      0.120154  82.013292  37.056629  0.532874   0.039412   \n",
       "3             64      0.120154  82.013292  37.056629  0.532874   0.039412   \n",
       "4             64      0.120154  82.013292  37.056629  0.532874   0.039412   \n",
       "\n",
       "   quest_exp  boss_monster     death    revive  ...   etc_cnt  num_opponent  \\\n",
       "0   0.022510             1  0.245370  0.246819  ...  2.139619      1.962575   \n",
       "1   0.022510             1  0.245370  0.246819  ...  2.139619      1.962575   \n",
       "2   0.016449             7  0.981479  0.987277  ...  2.364842     12.854867   \n",
       "3   0.016449             7  0.981479  0.987277  ...  2.364842     12.854867   \n",
       "4   0.016449             7  0.981479  0.987277  ...  2.364842     12.854867   \n",
       "\n",
       "   class_0  class_1  class_2  class_3  class_4  class_5  class_6  class_7  \n",
       "0        0        0        1        0        0        1        0        0  \n",
       "1        0        0        1        0        0        1        0        0  \n",
       "2        1        0        1        1        1        1        0        1  \n",
       "3        1        0        1        1        1        1        0        1  \n",
       "4        1        0        1        1        1        1        0        1  \n",
       "\n",
       "[5 rows x 30 columns]"
      ]
     },
     "execution_count": 14,
     "metadata": {},
     "output_type": "execute_result"
    }
   ],
   "source": [
    "train.head()"
   ]
  },
  {
   "cell_type": "code",
   "execution_count": 15,
   "metadata": {},
   "outputs": [],
   "source": [
    "train = train.drop(['boss_monster', 'exp_recovery', 'enchant_count', 'random_defender_cnt', 'same_pledge_cnt'], axis = 1)\n",
    "test01 = test01.drop(['boss_monster', 'exp_recovery', 'enchant_count', 'random_defender_cnt', 'same_pledge_cnt'], axis = 1)\n",
    "test02 = test02.drop(['boss_monster', 'exp_recovery', 'enchant_count', 'random_defender_cnt', 'same_pledge_cnt'], axis = 1)"
   ]
  },
  {
   "cell_type": "code",
   "execution_count": 16,
   "metadata": {},
   "outputs": [],
   "source": [
    "from sklearn.metrics import mean_squared_error\n",
    "from sklearn.metrics import accuracy_score"
   ]
  },
  {
   "cell_type": "code",
   "execution_count": 17,
   "metadata": {},
   "outputs": [],
   "source": [
    "from sklearn.model_selection import train_test_split\n",
    "X = train.drop(['survival_time', 'amount_spent'], axis = 1)\n",
    "y = train['amount_spent']"
   ]
  },
  {
   "cell_type": "code",
   "execution_count": 18,
   "metadata": {},
   "outputs": [],
   "source": [
    "X_train, X_test, y_train, y_test = train_test_split(X,y,test_size=0.2, random_state=50)"
   ]
  },
  {
   "cell_type": "code",
   "execution_count": 19,
   "metadata": {
    "scrolled": true
   },
   "outputs": [],
   "source": [
    "# for col in X_train.columns:\n",
    "#     X_train.loc[X_train[col] != 0,col] = np.log(X_train.loc[X_train[col] != 0, col])\n",
    "#     test1.loc[test1[col] != 0, col] = np.log(test1.loc[test1[col] != 0, col])\n",
    "#     X_train.loc[X_train[col] == 0, col] = -999\n",
    "#     test1.loc[test1[col] == 0, col] = -999"
   ]
  },
  {
   "cell_type": "code",
   "execution_count": 20,
   "metadata": {},
   "outputs": [
    {
     "data": {
      "text/html": [
       "<div>\n",
       "<style scoped>\n",
       "    .dataframe tbody tr th:only-of-type {\n",
       "        vertical-align: middle;\n",
       "    }\n",
       "\n",
       "    .dataframe tbody tr th {\n",
       "        vertical-align: top;\n",
       "    }\n",
       "\n",
       "    .dataframe thead th {\n",
       "        text-align: right;\n",
       "    }\n",
       "</style>\n",
       "<table border=\"1\" class=\"dataframe\">\n",
       "  <thead>\n",
       "    <tr style=\"text-align: right;\">\n",
       "      <th></th>\n",
       "      <th>playtime</th>\n",
       "      <th>npc_kill</th>\n",
       "      <th>solo_exp</th>\n",
       "      <th>party_exp</th>\n",
       "      <th>quest_exp</th>\n",
       "      <th>death</th>\n",
       "      <th>revive</th>\n",
       "      <th>fishing</th>\n",
       "      <th>private_shop</th>\n",
       "      <th>game_money_change</th>\n",
       "      <th>...</th>\n",
       "      <th>etc_cnt</th>\n",
       "      <th>num_opponent</th>\n",
       "      <th>class_0</th>\n",
       "      <th>class_1</th>\n",
       "      <th>class_2</th>\n",
       "      <th>class_3</th>\n",
       "      <th>class_4</th>\n",
       "      <th>class_5</th>\n",
       "      <th>class_6</th>\n",
       "      <th>class_7</th>\n",
       "    </tr>\n",
       "  </thead>\n",
       "  <tbody>\n",
       "    <tr>\n",
       "      <th>25250</th>\n",
       "      <td>7.631789</td>\n",
       "      <td>31.498709</td>\n",
       "      <td>1.926434</td>\n",
       "      <td>0.000000</td>\n",
       "      <td>0.077921</td>\n",
       "      <td>0.736109</td>\n",
       "      <td>0.740458</td>\n",
       "      <td>0.533435</td>\n",
       "      <td>0.000000</td>\n",
       "      <td>-0.017283</td>\n",
       "      <td>...</td>\n",
       "      <td>0.337835</td>\n",
       "      <td>0.392515</td>\n",
       "      <td>0</td>\n",
       "      <td>1</td>\n",
       "      <td>0</td>\n",
       "      <td>1</td>\n",
       "      <td>0</td>\n",
       "      <td>0</td>\n",
       "      <td>0</td>\n",
       "      <td>0</td>\n",
       "    </tr>\n",
       "    <tr>\n",
       "      <th>43211</th>\n",
       "      <td>32.484877</td>\n",
       "      <td>17.120110</td>\n",
       "      <td>0.369625</td>\n",
       "      <td>0.000013</td>\n",
       "      <td>0.094425</td>\n",
       "      <td>0.000000</td>\n",
       "      <td>0.000000</td>\n",
       "      <td>4.217591</td>\n",
       "      <td>7.868722</td>\n",
       "      <td>-1.108078</td>\n",
       "      <td>...</td>\n",
       "      <td>0.225223</td>\n",
       "      <td>0.294386</td>\n",
       "      <td>1</td>\n",
       "      <td>1</td>\n",
       "      <td>1</td>\n",
       "      <td>1</td>\n",
       "      <td>1</td>\n",
       "      <td>1</td>\n",
       "      <td>1</td>\n",
       "      <td>1</td>\n",
       "    </tr>\n",
       "    <tr>\n",
       "      <th>1274</th>\n",
       "      <td>74.874488</td>\n",
       "      <td>51.491232</td>\n",
       "      <td>0.514811</td>\n",
       "      <td>0.053113</td>\n",
       "      <td>4.640439</td>\n",
       "      <td>0.490740</td>\n",
       "      <td>0.493639</td>\n",
       "      <td>34.618696</td>\n",
       "      <td>0.000000</td>\n",
       "      <td>-0.628626</td>\n",
       "      <td>...</td>\n",
       "      <td>7.544972</td>\n",
       "      <td>14.130541</td>\n",
       "      <td>0</td>\n",
       "      <td>1</td>\n",
       "      <td>1</td>\n",
       "      <td>1</td>\n",
       "      <td>1</td>\n",
       "      <td>0</td>\n",
       "      <td>0</td>\n",
       "      <td>1</td>\n",
       "    </tr>\n",
       "    <tr>\n",
       "      <th>5210</th>\n",
       "      <td>72.044564</td>\n",
       "      <td>20.932114</td>\n",
       "      <td>0.954247</td>\n",
       "      <td>0.000000</td>\n",
       "      <td>0.018127</td>\n",
       "      <td>0.490740</td>\n",
       "      <td>0.493639</td>\n",
       "      <td>58.212381</td>\n",
       "      <td>0.000000</td>\n",
       "      <td>-0.075968</td>\n",
       "      <td>...</td>\n",
       "      <td>0.225223</td>\n",
       "      <td>0.785030</td>\n",
       "      <td>0</td>\n",
       "      <td>1</td>\n",
       "      <td>1</td>\n",
       "      <td>1</td>\n",
       "      <td>0</td>\n",
       "      <td>0</td>\n",
       "      <td>1</td>\n",
       "      <td>1</td>\n",
       "    </tr>\n",
       "    <tr>\n",
       "      <th>74638</th>\n",
       "      <td>4.709430</td>\n",
       "      <td>3.556273</td>\n",
       "      <td>24.442541</td>\n",
       "      <td>0.071033</td>\n",
       "      <td>2.670449</td>\n",
       "      <td>0.490740</td>\n",
       "      <td>0.493639</td>\n",
       "      <td>0.248981</td>\n",
       "      <td>0.000000</td>\n",
       "      <td>0.008344</td>\n",
       "      <td>...</td>\n",
       "      <td>0.000000</td>\n",
       "      <td>0.098129</td>\n",
       "      <td>0</td>\n",
       "      <td>1</td>\n",
       "      <td>1</td>\n",
       "      <td>0</td>\n",
       "      <td>1</td>\n",
       "      <td>1</td>\n",
       "      <td>0</td>\n",
       "      <td>1</td>\n",
       "    </tr>\n",
       "  </tbody>\n",
       "</table>\n",
       "<p>5 rows × 23 columns</p>\n",
       "</div>"
      ],
      "text/plain": [
       "        playtime   npc_kill   solo_exp  party_exp  quest_exp     death  \\\n",
       "25250   7.631789  31.498709   1.926434   0.000000   0.077921  0.736109   \n",
       "43211  32.484877  17.120110   0.369625   0.000013   0.094425  0.000000   \n",
       "1274   74.874488  51.491232   0.514811   0.053113   4.640439  0.490740   \n",
       "5210   72.044564  20.932114   0.954247   0.000000   0.018127  0.490740   \n",
       "74638   4.709430   3.556273  24.442541   0.071033   2.670449  0.490740   \n",
       "\n",
       "         revive    fishing  private_shop  game_money_change  ...   etc_cnt  \\\n",
       "25250  0.740458   0.533435      0.000000          -0.017283  ...  0.337835   \n",
       "43211  0.000000   4.217591      7.868722          -1.108078  ...  0.225223   \n",
       "1274   0.493639  34.618696      0.000000          -0.628626  ...  7.544972   \n",
       "5210   0.493639  58.212381      0.000000          -0.075968  ...  0.225223   \n",
       "74638  0.493639   0.248981      0.000000           0.008344  ...  0.000000   \n",
       "\n",
       "       num_opponent  class_0  class_1  class_2  class_3  class_4  class_5  \\\n",
       "25250      0.392515        0        1        0        1        0        0   \n",
       "43211      0.294386        1        1        1        1        1        1   \n",
       "1274      14.130541        0        1        1        1        1        0   \n",
       "5210       0.785030        0        1        1        1        0        0   \n",
       "74638      0.098129        0        1        1        0        1        1   \n",
       "\n",
       "       class_6  class_7  \n",
       "25250        0        0  \n",
       "43211        1        1  \n",
       "1274         0        1  \n",
       "5210         1        1  \n",
       "74638        0        1  \n",
       "\n",
       "[5 rows x 23 columns]"
      ]
     },
     "execution_count": 20,
     "metadata": {},
     "output_type": "execute_result"
    }
   ],
   "source": [
    "X_train.head()"
   ]
  },
  {
   "cell_type": "code",
   "execution_count": 21,
   "metadata": {},
   "outputs": [],
   "source": [
    "from sklearn.linear_model import LinearRegression, Ridge, Lasso"
   ]
  },
  {
   "cell_type": "code",
   "execution_count": 22,
   "metadata": {},
   "outputs": [
    {
     "data": {
      "text/plain": [
       "Lasso(alpha=1.0, copy_X=True, fit_intercept=True, max_iter=1000,\n",
       "      normalize=False, positive=False, precompute=False, random_state=None,\n",
       "      selection='cyclic', tol=0.0001, warm_start=False)"
      ]
     },
     "execution_count": 22,
     "metadata": {},
     "output_type": "execute_result"
    }
   ],
   "source": [
    "lr_reg = LinearRegression()\n",
    "lr_reg.fit(X_train, y_train)\n",
    "ridge_reg = Ridge()\n",
    "ridge_reg.fit(X_train, y_train)\n",
    "lasso_reg = Lasso()\n",
    "lasso_reg.fit(X_train, y_train)"
   ]
  },
  {
   "cell_type": "code",
   "execution_count": 23,
   "metadata": {},
   "outputs": [],
   "source": [
    "lr_pred = lr_reg.predict(X_test)\n",
    "ridge_pred = ridge_reg.predict(X_test)\n",
    "lasso_pred = lasso_reg.predict(X_test)"
   ]
  },
  {
   "cell_type": "code",
   "execution_count": 24,
   "metadata": {
    "scrolled": true
   },
   "outputs": [
    {
     "name": "stdout",
     "output_type": "stream",
     "text": [
      "LinearRegression :  0.009094306110135952\n",
      "Ridge :  0.009094368723853052\n",
      "Lasso :  0.0\n"
     ]
    }
   ],
   "source": [
    "from sklearn.metrics import explained_variance_score\n",
    "print('LinearRegression : ', explained_variance_score(y_test, lr_pred))\n",
    "print('Ridge : ', explained_variance_score(y_test, ridge_pred))\n",
    "print('Lasso : ', explained_variance_score(y_test, lasso_pred))\n"
   ]
  },
  {
   "cell_type": "code",
   "execution_count": 25,
   "metadata": {},
   "outputs": [
    {
     "name": "stdout",
     "output_type": "stream",
     "text": [
      "Index(['survival_time', 'amount_spent', 'playtime', 'npc_kill', 'solo_exp',\n",
      "       'party_exp', 'quest_exp', 'death', 'revive', 'fishing', 'private_shop',\n",
      "       'game_money_change', 'pledge_cnt', 'random_attacker_cnt', 'temp_cnt',\n",
      "       'etc_cnt', 'num_opponent', 'class_0', 'class_1', 'class_2', 'class_3',\n",
      "       'class_4', 'class_5', 'class_6', 'class_7'],\n",
      "      dtype='object')\n",
      "Index(['playtime', 'npc_kill', 'solo_exp', 'party_exp', 'quest_exp', 'death',\n",
      "       'revive', 'fishing', 'private_shop', 'game_money_change', 'pledge_cnt',\n",
      "       'random_attacker_cnt', 'temp_cnt', 'etc_cnt', 'num_opponent', 'class_0',\n",
      "       'class_1', 'class_2', 'class_3', 'class_4', 'class_5', 'class_6',\n",
      "       'class_7'],\n",
      "      dtype='object')\n",
      "Index(['playtime', 'npc_kill', 'solo_exp', 'party_exp', 'quest_exp', 'death',\n",
      "       'revive', 'fishing', 'private_shop', 'game_money_change', 'pledge_cnt',\n",
      "       'random_attacker_cnt', 'temp_cnt', 'etc_cnt', 'num_opponent', 'class_0',\n",
      "       'class_1', 'class_2', 'class_3', 'class_4', 'class_5', 'class_6',\n",
      "       'class_7'],\n",
      "      dtype='object')\n"
     ]
    }
   ],
   "source": [
    "print(train.columns)\n",
    "print(test01.columns)\n",
    "print(test02.columns)"
   ]
  },
  {
   "cell_type": "code",
   "execution_count": 26,
   "metadata": {},
   "outputs": [],
   "source": [
    "t1_pred = lr_reg.predict(test01)\n",
    "# t1_pred = ridge_reg.predict(test01)\n",
    "# t1_pred = lasso_reg.predict(test01)"
   ]
  },
  {
   "cell_type": "code",
   "execution_count": 27,
   "metadata": {},
   "outputs": [],
   "source": [
    "t2_pred = lr_reg.predict(test02)\n",
    "# t2_pred = ridge_reg.predict(test02)\n",
    "# t2_pred = lasso_reg.predict(test02)"
   ]
  },
  {
   "cell_type": "code",
   "execution_count": 28,
   "metadata": {
    "scrolled": false
   },
   "outputs": [
    {
     "data": {
      "text/plain": [
       "Index(['acc_id', 'playtime', 'npc_kill', 'solo_exp', 'party_exp', 'quest_exp',\n",
       "       'boss_monster', 'death', 'revive', 'exp_recovery', 'fishing',\n",
       "       'private_shop', 'game_money_change', 'enchant_count', 'pledge_cnt',\n",
       "       'random_attacker_cnt', 'random_defender_cnt', 'temp_cnt',\n",
       "       'same_pledge_cnt', 'etc_cnt', 'num_opponent', 'class_0', 'class_1',\n",
       "       'class_2', 'class_3', 'class_4', 'class_5', 'class_6', 'class_7'],\n",
       "      dtype='object')"
      ]
     },
     "execution_count": 28,
     "metadata": {},
     "output_type": "execute_result"
    }
   ],
   "source": [
    "test1.columns"
   ]
  },
  {
   "cell_type": "code",
   "execution_count": 29,
   "metadata": {},
   "outputs": [],
   "source": [
    "t1_submission = test1.drop(['playtime', 'npc_kill', 'solo_exp', 'party_exp', 'quest_exp',\n",
    "       'boss_monster', 'death', 'revive', 'exp_recovery', 'fishing',\n",
    "       'private_shop', 'game_money_change', 'enchant_count', 'pledge_cnt',\n",
    "       'random_attacker_cnt', 'random_defender_cnt', 'temp_cnt',\n",
    "       'same_pledge_cnt', 'etc_cnt', 'num_opponent', 'class_0', 'class_1',\n",
    "       'class_2', 'class_3', 'class_4', 'class_5', 'class_6', 'class_7'], axis = 1)"
   ]
  },
  {
   "cell_type": "code",
   "execution_count": 30,
   "metadata": {},
   "outputs": [],
   "source": [
    "t2_submission = test2.drop(['playtime', 'npc_kill', 'solo_exp', 'party_exp', 'quest_exp',\n",
    "       'boss_monster', 'death', 'revive', 'exp_recovery', 'fishing',\n",
    "       'private_shop', 'game_money_change', 'enchant_count', 'pledge_cnt',\n",
    "       'random_attacker_cnt', 'random_defender_cnt', 'temp_cnt',\n",
    "       'same_pledge_cnt', 'etc_cnt', 'num_opponent', 'class_0', 'class_1',\n",
    "       'class_2', 'class_3', 'class_4', 'class_5', 'class_6', 'class_7'], axis = 1)"
   ]
  },
  {
   "cell_type": "code",
   "execution_count": 40,
   "metadata": {},
   "outputs": [],
   "source": [
    "for i in range(len(t1_pred)):\n",
    "    if t1_pred[i] <= 0 :\n",
    "        t1_pred[i] = 0\n",
    "for i in range(len(t2_pred)):\n",
    "    if t2_pred[i] <= 0 :\n",
    "        t2_pred[i] = 0"
   ]
  },
  {
   "cell_type": "code",
   "execution_count": 41,
   "metadata": {},
   "outputs": [],
   "source": [
    "t1_submission['amount_spent'] = t1_pred\n",
    "\n",
    "t2_submission['amount_spent'] = t2_pred"
   ]
  },
  {
   "cell_type": "code",
   "execution_count": 42,
   "metadata": {},
   "outputs": [],
   "source": [
    "t1_submission.to_csv('./test1_predict_amount_spent.csv', encoding = 'UTF-8', header = True, index = False)\n",
    "t2_submission.to_csv('./test2_predict_amount_spent.csv', encoding = 'UTF-8', header = True, index = False)"
   ]
  },
  {
   "cell_type": "code",
   "execution_count": 34,
   "metadata": {
    "scrolled": true
   },
   "outputs": [
    {
     "data": {
      "text/plain": [
       "Index(['acc_id', 'amount_spent'], dtype='object')"
      ]
     },
     "execution_count": 34,
     "metadata": {},
     "output_type": "execute_result"
    }
   ],
   "source": [
    "t1_submission.columns"
   ]
  },
  {
   "cell_type": "code",
   "execution_count": 45,
   "metadata": {
    "scrolled": true
   },
   "outputs": [
    {
     "data": {
      "text/plain": [
       "0.43120356400218507"
      ]
     },
     "execution_count": 45,
     "metadata": {},
     "output_type": "execute_result"
    }
   ],
   "source": [
    "t1_submission.amount_spent.max()"
   ]
  },
  {
   "cell_type": "code",
   "execution_count": 46,
   "metadata": {},
   "outputs": [
    {
     "data": {
      "text/plain": [
       "0.4342804864389378"
      ]
     },
     "execution_count": 46,
     "metadata": {},
     "output_type": "execute_result"
    }
   ],
   "source": [
    "t2_submission.amount_spent.max()"
   ]
  },
  {
   "cell_type": "code",
   "execution_count": 77,
   "metadata": {},
   "outputs": [
    {
     "data": {
      "text/plain": [
       "DecisionTreeRegressor(criterion='mse', max_depth=20, max_features=None,\n",
       "                      max_leaf_nodes=None, min_impurity_decrease=0.0,\n",
       "                      min_impurity_split=None, min_samples_leaf=1,\n",
       "                      min_samples_split=2, min_weight_fraction_leaf=0.0,\n",
       "                      presort=False, random_state=None, splitter='best')"
      ]
     },
     "execution_count": 77,
     "metadata": {},
     "output_type": "execute_result"
    }
   ],
   "source": [
    "from sklearn import tree\n",
    "DTR = tree.DecisionTreeRegressor(max_depth = 20)\n",
    "DTR.fit(X_train, y_train)"
   ]
  },
  {
   "cell_type": "code",
   "execution_count": 78,
   "metadata": {},
   "outputs": [],
   "source": [
    "DTR_pred = DTR.predict(X_test)"
   ]
  },
  {
   "cell_type": "code",
   "execution_count": 79,
   "metadata": {
    "scrolled": true
   },
   "outputs": [
    {
     "name": "stdout",
     "output_type": "stream",
     "text": [
      "DecisionTreeRegressor :  -0.16951798132165385\n"
     ]
    }
   ],
   "source": [
    "print('DecisionTreeRegressor : ', explained_variance_score(y_test, DTR_pred))"
   ]
  },
  {
   "cell_type": "code",
   "execution_count": 80,
   "metadata": {},
   "outputs": [],
   "source": [
    "t1_DTR_pred = DTR.predict(test01)\n",
    "t2_DTR_pred = DTR.predict(test02)"
   ]
  },
  {
   "cell_type": "code",
   "execution_count": 81,
   "metadata": {},
   "outputs": [],
   "source": [
    "t1_DTR_submission = test1.drop(['playtime', 'npc_kill', 'solo_exp', 'party_exp', 'quest_exp',\n",
    "       'boss_monster', 'death', 'revive', 'exp_recovery', 'fishing',\n",
    "       'private_shop', 'game_money_change', 'enchant_count', 'pledge_cnt',\n",
    "       'random_attacker_cnt', 'random_defender_cnt', 'temp_cnt',\n",
    "       'same_pledge_cnt', 'etc_cnt', 'num_opponent', 'class_0', 'class_1',\n",
    "       'class_2', 'class_3', 'class_4', 'class_5', 'class_6', 'class_7'], axis = 1)\n",
    "t2_DTR_submission = test2.drop(['playtime', 'npc_kill', 'solo_exp', 'party_exp', 'quest_exp',\n",
    "       'boss_monster', 'death', 'revive', 'exp_recovery', 'fishing',\n",
    "       'private_shop', 'game_money_change', 'enchant_count', 'pledge_cnt',\n",
    "       'random_attacker_cnt', 'random_defender_cnt', 'temp_cnt',\n",
    "       'same_pledge_cnt', 'etc_cnt', 'num_opponent', 'class_0', 'class_1',\n",
    "       'class_2', 'class_3', 'class_4', 'class_5', 'class_6', 'class_7'], axis = 1)"
   ]
  },
  {
   "cell_type": "code",
   "execution_count": 82,
   "metadata": {},
   "outputs": [],
   "source": [
    "t1_DTR_submission['amount_spent'] = t1_DTR_pred\n",
    "t2_DTR_submission['amount_spent'] = t2_DTR_pred"
   ]
  },
  {
   "cell_type": "code",
   "execution_count": 83,
   "metadata": {},
   "outputs": [
    {
     "data": {
      "text/plain": [
       "39.41263209871594"
      ]
     },
     "execution_count": 83,
     "metadata": {},
     "output_type": "execute_result"
    }
   ],
   "source": [
    "t1_DTR_pred.max()"
   ]
  },
  {
   "cell_type": "code",
   "execution_count": 84,
   "metadata": {},
   "outputs": [
    {
     "data": {
      "text/plain": [
       "39.41263209871594"
      ]
     },
     "execution_count": 84,
     "metadata": {},
     "output_type": "execute_result"
    }
   ],
   "source": [
    "t2_DTR_pred.max()"
   ]
  },
  {
   "cell_type": "code",
   "execution_count": 85,
   "metadata": {},
   "outputs": [
    {
     "data": {
      "text/plain": [
       "array([0.00827122, 0.14312119, 0.26550701, ..., 0.07706708, 0.01895241,\n",
       "       0.        ])"
      ]
     },
     "execution_count": 85,
     "metadata": {},
     "output_type": "execute_result"
    }
   ],
   "source": [
    "t2_DTR_pred"
   ]
  },
  {
   "cell_type": "code",
   "execution_count": 86,
   "metadata": {},
   "outputs": [],
   "source": [
    "t1_DTR_submission.to_csv('./test1_predict_amount_spent.csv', index=False)\n",
    "t2_DTR_submission.to_csv('./test2_predict_amount_spent.csv', index=False)"
   ]
  },
  {
   "cell_type": "code",
   "execution_count": null,
   "metadata": {},
   "outputs": [],
   "source": []
  }
 ],
 "metadata": {
  "kernelspec": {
   "display_name": "Python 3",
   "language": "python",
   "name": "python3"
  },
  "language_info": {
   "codemirror_mode": {
    "name": "ipython",
    "version": 3
   },
   "file_extension": ".py",
   "mimetype": "text/x-python",
   "name": "python",
   "nbconvert_exporter": "python",
   "pygments_lexer": "ipython3",
   "version": "3.7.3"
  }
 },
 "nbformat": 4,
 "nbformat_minor": 2
}
