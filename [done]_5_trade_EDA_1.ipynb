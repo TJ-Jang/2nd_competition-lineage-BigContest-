{
 "cells": [
  {
   "cell_type": "code",
   "execution_count": 1,
   "metadata": {},
   "outputs": [],
   "source": [
    "import numpy as np\n",
    "import pandas as pd\n",
    "import warnings\n",
    "warnings.filterwarnings('ignore')"
   ]
  },
  {
   "cell_type": "code",
   "execution_count": 2,
   "metadata": {},
   "outputs": [
    {
     "name": "stdout",
     "output_type": "stream",
     "text": [
      "['test1_activity.csv', 'test1_combat.csv', 'test1_payment.csv', 'test1_pledge.csv', 'test1_trade.csv', 'test2_activity.csv', 'test2_combat.csv', 'test2_payment.csv', 'test2_pledge.csv', 'test2_trade.csv', 'train_activity.csv', 'train_combat.csv', 'train_label.csv', 'train_payment.csv', 'train_pledge.csv', 'train_trade.csv']\n"
     ]
    }
   ],
   "source": [
    "import os\n",
    "print(os.listdir('./Data/'))"
   ]
  },
  {
   "cell_type": "code",
   "execution_count": 3,
   "metadata": {},
   "outputs": [],
   "source": [
    "tr_trade = pd.read_csv('./Data/train_trade.csv')\n",
    "t1_trade = pd.read_csv('./Data/test1_trade.csv')\n",
    "t2_trade = pd.read_csv('./Data/test2_trade.csv')\n",
    "tr_label = pd.read_csv('./Data/train_label.csv')"
   ]
  },
  {
   "cell_type": "code",
   "execution_count": 4,
   "metadata": {},
   "outputs": [
    {
     "data": {
      "text/plain": [
       "(40000, 3)"
      ]
     },
     "execution_count": 4,
     "metadata": {},
     "output_type": "execute_result"
    }
   ],
   "source": [
    "tr_label.shape"
   ]
  },
  {
   "cell_type": "code",
   "execution_count": 5,
   "metadata": {},
   "outputs": [
    {
     "data": {
      "text/html": [
       "<div>\n",
       "<style scoped>\n",
       "    .dataframe tbody tr th:only-of-type {\n",
       "        vertical-align: middle;\n",
       "    }\n",
       "\n",
       "    .dataframe tbody tr th {\n",
       "        vertical-align: top;\n",
       "    }\n",
       "\n",
       "    .dataframe thead th {\n",
       "        text-align: right;\n",
       "    }\n",
       "</style>\n",
       "<table border=\"1\" class=\"dataframe\">\n",
       "  <thead>\n",
       "    <tr style=\"text-align: right;\">\n",
       "      <th></th>\n",
       "      <th>acc_id</th>\n",
       "      <th>survival_time</th>\n",
       "      <th>amount_spent</th>\n",
       "    </tr>\n",
       "  </thead>\n",
       "  <tbody>\n",
       "    <tr>\n",
       "      <th>0</th>\n",
       "      <td>27835</td>\n",
       "      <td>64</td>\n",
       "      <td>0.002559</td>\n",
       "    </tr>\n",
       "    <tr>\n",
       "      <th>1</th>\n",
       "      <td>12351</td>\n",
       "      <td>64</td>\n",
       "      <td>0.120154</td>\n",
       "    </tr>\n",
       "    <tr>\n",
       "      <th>2</th>\n",
       "      <td>125437</td>\n",
       "      <td>55</td>\n",
       "      <td>0.182593</td>\n",
       "    </tr>\n",
       "    <tr>\n",
       "      <th>3</th>\n",
       "      <td>104483</td>\n",
       "      <td>64</td>\n",
       "      <td>0.016241</td>\n",
       "    </tr>\n",
       "    <tr>\n",
       "      <th>4</th>\n",
       "      <td>4704</td>\n",
       "      <td>20</td>\n",
       "      <td>0.226396</td>\n",
       "    </tr>\n",
       "  </tbody>\n",
       "</table>\n",
       "</div>"
      ],
      "text/plain": [
       "   acc_id  survival_time  amount_spent\n",
       "0   27835             64      0.002559\n",
       "1   12351             64      0.120154\n",
       "2  125437             55      0.182593\n",
       "3  104483             64      0.016241\n",
       "4    4704             20      0.226396"
      ]
     },
     "execution_count": 5,
     "metadata": {},
     "output_type": "execute_result"
    }
   ],
   "source": [
    "tr_label.head()"
   ]
  },
  {
   "cell_type": "code",
   "execution_count": 6,
   "metadata": {},
   "outputs": [
    {
     "name": "stdout",
     "output_type": "stream",
     "text": [
      "(2245196, 11)\n"
     ]
    },
    {
     "data": {
      "text/html": [
       "<div>\n",
       "<style scoped>\n",
       "    .dataframe tbody tr th:only-of-type {\n",
       "        vertical-align: middle;\n",
       "    }\n",
       "\n",
       "    .dataframe tbody tr th {\n",
       "        vertical-align: top;\n",
       "    }\n",
       "\n",
       "    .dataframe thead th {\n",
       "        text-align: right;\n",
       "    }\n",
       "</style>\n",
       "<table border=\"1\" class=\"dataframe\">\n",
       "  <thead>\n",
       "    <tr style=\"text-align: right;\">\n",
       "      <th></th>\n",
       "      <th>day</th>\n",
       "      <th>time</th>\n",
       "      <th>type</th>\n",
       "      <th>server</th>\n",
       "      <th>source_acc_id</th>\n",
       "      <th>source_char_id</th>\n",
       "      <th>target_acc_id</th>\n",
       "      <th>target_char_id</th>\n",
       "      <th>item_type</th>\n",
       "      <th>item_amount</th>\n",
       "      <th>item_price</th>\n",
       "    </tr>\n",
       "  </thead>\n",
       "  <tbody>\n",
       "    <tr>\n",
       "      <th>0</th>\n",
       "      <td>1</td>\n",
       "      <td>21:40:09</td>\n",
       "      <td>0</td>\n",
       "      <td>bd</td>\n",
       "      <td>115641</td>\n",
       "      <td>202802</td>\n",
       "      <td>42143</td>\n",
       "      <td>197398</td>\n",
       "      <td>etc</td>\n",
       "      <td>2.678249e-07</td>\n",
       "      <td>0.001859</td>\n",
       "    </tr>\n",
       "    <tr>\n",
       "      <th>1</th>\n",
       "      <td>1</td>\n",
       "      <td>13:08:52</td>\n",
       "      <td>1</td>\n",
       "      <td>ah</td>\n",
       "      <td>104546</td>\n",
       "      <td>293593</td>\n",
       "      <td>41270</td>\n",
       "      <td>224395</td>\n",
       "      <td>etc</td>\n",
       "      <td>9.373872e-06</td>\n",
       "      <td>NaN</td>\n",
       "    </tr>\n",
       "    <tr>\n",
       "      <th>2</th>\n",
       "      <td>1</td>\n",
       "      <td>21:01:48</td>\n",
       "      <td>1</td>\n",
       "      <td>au</td>\n",
       "      <td>84624</td>\n",
       "      <td>107496</td>\n",
       "      <td>33916</td>\n",
       "      <td>312167</td>\n",
       "      <td>adena</td>\n",
       "      <td>2.249729e+00</td>\n",
       "      <td>NaN</td>\n",
       "    </tr>\n",
       "    <tr>\n",
       "      <th>3</th>\n",
       "      <td>1</td>\n",
       "      <td>14:37:50</td>\n",
       "      <td>1</td>\n",
       "      <td>ar</td>\n",
       "      <td>78411</td>\n",
       "      <td>226143</td>\n",
       "      <td>80350</td>\n",
       "      <td>34764</td>\n",
       "      <td>adena</td>\n",
       "      <td>6.695623e-03</td>\n",
       "      <td>NaN</td>\n",
       "    </tr>\n",
       "    <tr>\n",
       "      <th>4</th>\n",
       "      <td>1</td>\n",
       "      <td>20:32:00</td>\n",
       "      <td>0</td>\n",
       "      <td>ay</td>\n",
       "      <td>50284</td>\n",
       "      <td>44100</td>\n",
       "      <td>17523</td>\n",
       "      <td>276351</td>\n",
       "      <td>etc</td>\n",
       "      <td>5.356498e-08</td>\n",
       "      <td>0.037402</td>\n",
       "    </tr>\n",
       "  </tbody>\n",
       "</table>\n",
       "</div>"
      ],
      "text/plain": [
       "   day      time  type server  source_acc_id  source_char_id  target_acc_id  \\\n",
       "0    1  21:40:09     0     bd         115641          202802          42143   \n",
       "1    1  13:08:52     1     ah         104546          293593          41270   \n",
       "2    1  21:01:48     1     au          84624          107496          33916   \n",
       "3    1  14:37:50     1     ar          78411          226143          80350   \n",
       "4    1  20:32:00     0     ay          50284           44100          17523   \n",
       "\n",
       "   target_char_id item_type   item_amount  item_price  \n",
       "0          197398       etc  2.678249e-07    0.001859  \n",
       "1          224395       etc  9.373872e-06         NaN  \n",
       "2          312167     adena  2.249729e+00         NaN  \n",
       "3           34764     adena  6.695623e-03         NaN  \n",
       "4          276351       etc  5.356498e-08    0.037402  "
      ]
     },
     "execution_count": 6,
     "metadata": {},
     "output_type": "execute_result"
    }
   ],
   "source": [
    "print(tr_trade.shape)\n",
    "tr_trade.head()"
   ]
  },
  {
   "cell_type": "code",
   "execution_count": 7,
   "metadata": {},
   "outputs": [
    {
     "name": "stdout",
     "output_type": "stream",
     "text": [
      "(968482, 11)\n"
     ]
    },
    {
     "data": {
      "text/html": [
       "<div>\n",
       "<style scoped>\n",
       "    .dataframe tbody tr th:only-of-type {\n",
       "        vertical-align: middle;\n",
       "    }\n",
       "\n",
       "    .dataframe tbody tr th {\n",
       "        vertical-align: top;\n",
       "    }\n",
       "\n",
       "    .dataframe thead th {\n",
       "        text-align: right;\n",
       "    }\n",
       "</style>\n",
       "<table border=\"1\" class=\"dataframe\">\n",
       "  <thead>\n",
       "    <tr style=\"text-align: right;\">\n",
       "      <th></th>\n",
       "      <th>day</th>\n",
       "      <th>time</th>\n",
       "      <th>type</th>\n",
       "      <th>server</th>\n",
       "      <th>source_acc_id</th>\n",
       "      <th>source_char_id</th>\n",
       "      <th>target_acc_id</th>\n",
       "      <th>target_char_id</th>\n",
       "      <th>item_type</th>\n",
       "      <th>item_amount</th>\n",
       "      <th>item_price</th>\n",
       "    </tr>\n",
       "  </thead>\n",
       "  <tbody>\n",
       "    <tr>\n",
       "      <th>0</th>\n",
       "      <td>1</td>\n",
       "      <td>13:55:58</td>\n",
       "      <td>1</td>\n",
       "      <td>ae</td>\n",
       "      <td>81831</td>\n",
       "      <td>94502</td>\n",
       "      <td>33305</td>\n",
       "      <td>184638</td>\n",
       "      <td>adena</td>\n",
       "      <td>7.858491e-01</td>\n",
       "      <td>NaN</td>\n",
       "    </tr>\n",
       "    <tr>\n",
       "      <th>1</th>\n",
       "      <td>1</td>\n",
       "      <td>20:49:42</td>\n",
       "      <td>0</td>\n",
       "      <td>aw</td>\n",
       "      <td>122462</td>\n",
       "      <td>5995</td>\n",
       "      <td>66357</td>\n",
       "      <td>160973</td>\n",
       "      <td>enchant_scroll</td>\n",
       "      <td>1.071300e-07</td>\n",
       "      <td>0.104333</td>\n",
       "    </tr>\n",
       "    <tr>\n",
       "      <th>2</th>\n",
       "      <td>1</td>\n",
       "      <td>17:22:35</td>\n",
       "      <td>0</td>\n",
       "      <td>az</td>\n",
       "      <td>41397</td>\n",
       "      <td>292641</td>\n",
       "      <td>18634</td>\n",
       "      <td>294647</td>\n",
       "      <td>etc</td>\n",
       "      <td>4.285199e-07</td>\n",
       "      <td>0.000902</td>\n",
       "    </tr>\n",
       "    <tr>\n",
       "      <th>3</th>\n",
       "      <td>1</td>\n",
       "      <td>18:47:10</td>\n",
       "      <td>1</td>\n",
       "      <td>ai</td>\n",
       "      <td>87547</td>\n",
       "      <td>263923</td>\n",
       "      <td>52706</td>\n",
       "      <td>144370</td>\n",
       "      <td>adena</td>\n",
       "      <td>2.062252e+00</td>\n",
       "      <td>NaN</td>\n",
       "    </tr>\n",
       "    <tr>\n",
       "      <th>4</th>\n",
       "      <td>1</td>\n",
       "      <td>02:53:47</td>\n",
       "      <td>0</td>\n",
       "      <td>ax</td>\n",
       "      <td>41352</td>\n",
       "      <td>183609</td>\n",
       "      <td>53276</td>\n",
       "      <td>215712</td>\n",
       "      <td>enchant_scroll</td>\n",
       "      <td>5.356498e-08</td>\n",
       "      <td>0.018018</td>\n",
       "    </tr>\n",
       "  </tbody>\n",
       "</table>\n",
       "</div>"
      ],
      "text/plain": [
       "   day      time  type server  source_acc_id  source_char_id  target_acc_id  \\\n",
       "0    1  13:55:58     1     ae          81831           94502          33305   \n",
       "1    1  20:49:42     0     aw         122462            5995          66357   \n",
       "2    1  17:22:35     0     az          41397          292641          18634   \n",
       "3    1  18:47:10     1     ai          87547          263923          52706   \n",
       "4    1  02:53:47     0     ax          41352          183609          53276   \n",
       "\n",
       "   target_char_id       item_type   item_amount  item_price  \n",
       "0          184638           adena  7.858491e-01         NaN  \n",
       "1          160973  enchant_scroll  1.071300e-07    0.104333  \n",
       "2          294647             etc  4.285199e-07    0.000902  \n",
       "3          144370           adena  2.062252e+00         NaN  \n",
       "4          215712  enchant_scroll  5.356498e-08    0.018018  "
      ]
     },
     "execution_count": 7,
     "metadata": {},
     "output_type": "execute_result"
    }
   ],
   "source": [
    "print(t1_trade.shape)\n",
    "t1_trade.head()"
   ]
  },
  {
   "cell_type": "code",
   "execution_count": 8,
   "metadata": {
    "scrolled": true
   },
   "outputs": [
    {
     "name": "stdout",
     "output_type": "stream",
     "text": [
      "(906314, 11)\n"
     ]
    },
    {
     "data": {
      "text/html": [
       "<div>\n",
       "<style scoped>\n",
       "    .dataframe tbody tr th:only-of-type {\n",
       "        vertical-align: middle;\n",
       "    }\n",
       "\n",
       "    .dataframe tbody tr th {\n",
       "        vertical-align: top;\n",
       "    }\n",
       "\n",
       "    .dataframe thead th {\n",
       "        text-align: right;\n",
       "    }\n",
       "</style>\n",
       "<table border=\"1\" class=\"dataframe\">\n",
       "  <thead>\n",
       "    <tr style=\"text-align: right;\">\n",
       "      <th></th>\n",
       "      <th>day</th>\n",
       "      <th>time</th>\n",
       "      <th>type</th>\n",
       "      <th>server</th>\n",
       "      <th>source_acc_id</th>\n",
       "      <th>source_char_id</th>\n",
       "      <th>target_acc_id</th>\n",
       "      <th>target_char_id</th>\n",
       "      <th>item_type</th>\n",
       "      <th>item_amount</th>\n",
       "      <th>item_price</th>\n",
       "    </tr>\n",
       "  </thead>\n",
       "  <tbody>\n",
       "    <tr>\n",
       "      <th>0</th>\n",
       "      <td>1</td>\n",
       "      <td>20:12:22</td>\n",
       "      <td>0</td>\n",
       "      <td>aa</td>\n",
       "      <td>11089</td>\n",
       "      <td>95679</td>\n",
       "      <td>60199</td>\n",
       "      <td>385544</td>\n",
       "      <td>etc</td>\n",
       "      <td>5.329716e-06</td>\n",
       "      <td>0.018235</td>\n",
       "    </tr>\n",
       "    <tr>\n",
       "      <th>1</th>\n",
       "      <td>1</td>\n",
       "      <td>20:10:21</td>\n",
       "      <td>1</td>\n",
       "      <td>ar</td>\n",
       "      <td>46124</td>\n",
       "      <td>140784</td>\n",
       "      <td>94931</td>\n",
       "      <td>127804</td>\n",
       "      <td>accessory</td>\n",
       "      <td>5.356498e-08</td>\n",
       "      <td>NaN</td>\n",
       "    </tr>\n",
       "    <tr>\n",
       "      <th>2</th>\n",
       "      <td>1</td>\n",
       "      <td>09:40:36</td>\n",
       "      <td>1</td>\n",
       "      <td>ae</td>\n",
       "      <td>52645</td>\n",
       "      <td>88053</td>\n",
       "      <td>54931</td>\n",
       "      <td>160613</td>\n",
       "      <td>weapon</td>\n",
       "      <td>2.678249e-08</td>\n",
       "      <td>NaN</td>\n",
       "    </tr>\n",
       "    <tr>\n",
       "      <th>3</th>\n",
       "      <td>1</td>\n",
       "      <td>22:53:14</td>\n",
       "      <td>1</td>\n",
       "      <td>an</td>\n",
       "      <td>102324</td>\n",
       "      <td>145058</td>\n",
       "      <td>70295</td>\n",
       "      <td>252016</td>\n",
       "      <td>adena</td>\n",
       "      <td>2.785379e-01</td>\n",
       "      <td>NaN</td>\n",
       "    </tr>\n",
       "    <tr>\n",
       "      <th>4</th>\n",
       "      <td>1</td>\n",
       "      <td>23:18:32</td>\n",
       "      <td>1</td>\n",
       "      <td>aj</td>\n",
       "      <td>91265</td>\n",
       "      <td>268489</td>\n",
       "      <td>21523</td>\n",
       "      <td>353515</td>\n",
       "      <td>etc</td>\n",
       "      <td>2.678249e-08</td>\n",
       "      <td>NaN</td>\n",
       "    </tr>\n",
       "  </tbody>\n",
       "</table>\n",
       "</div>"
      ],
      "text/plain": [
       "   day      time  type server  source_acc_id  source_char_id  target_acc_id  \\\n",
       "0    1  20:12:22     0     aa          11089           95679          60199   \n",
       "1    1  20:10:21     1     ar          46124          140784          94931   \n",
       "2    1  09:40:36     1     ae          52645           88053          54931   \n",
       "3    1  22:53:14     1     an         102324          145058          70295   \n",
       "4    1  23:18:32     1     aj          91265          268489          21523   \n",
       "\n",
       "   target_char_id  item_type   item_amount  item_price  \n",
       "0          385544        etc  5.329716e-06    0.018235  \n",
       "1          127804  accessory  5.356498e-08         NaN  \n",
       "2          160613     weapon  2.678249e-08         NaN  \n",
       "3          252016      adena  2.785379e-01         NaN  \n",
       "4          353515        etc  2.678249e-08         NaN  "
      ]
     },
     "execution_count": 8,
     "metadata": {},
     "output_type": "execute_result"
    }
   ],
   "source": [
    "print(t2_trade.shape)\n",
    "t2_trade.head()"
   ]
  },
  {
   "cell_type": "code",
   "execution_count": 9,
   "metadata": {},
   "outputs": [],
   "source": [
    "tr_trade['hr'] = tr_trade.time.str[:2]\n",
    "t1_trade['hr'] = t1_trade.time.str[:2]\n",
    "t2_trade['hr'] = t2_trade.time.str[:2]"
   ]
  },
  {
   "cell_type": "code",
   "execution_count": 10,
   "metadata": {
    "scrolled": true
   },
   "outputs": [
    {
     "data": {
      "text/html": [
       "<div>\n",
       "<style scoped>\n",
       "    .dataframe tbody tr th:only-of-type {\n",
       "        vertical-align: middle;\n",
       "    }\n",
       "\n",
       "    .dataframe tbody tr th {\n",
       "        vertical-align: top;\n",
       "    }\n",
       "\n",
       "    .dataframe thead th {\n",
       "        text-align: right;\n",
       "    }\n",
       "</style>\n",
       "<table border=\"1\" class=\"dataframe\">\n",
       "  <thead>\n",
       "    <tr style=\"text-align: right;\">\n",
       "      <th></th>\n",
       "      <th>day</th>\n",
       "      <th>time</th>\n",
       "      <th>type</th>\n",
       "      <th>server</th>\n",
       "      <th>source_acc_id</th>\n",
       "      <th>source_char_id</th>\n",
       "      <th>target_acc_id</th>\n",
       "      <th>target_char_id</th>\n",
       "      <th>item_type</th>\n",
       "      <th>item_amount</th>\n",
       "      <th>item_price</th>\n",
       "      <th>hr</th>\n",
       "    </tr>\n",
       "  </thead>\n",
       "  <tbody>\n",
       "    <tr>\n",
       "      <th>0</th>\n",
       "      <td>1</td>\n",
       "      <td>21:40:09</td>\n",
       "      <td>0</td>\n",
       "      <td>bd</td>\n",
       "      <td>115641</td>\n",
       "      <td>202802</td>\n",
       "      <td>42143</td>\n",
       "      <td>197398</td>\n",
       "      <td>etc</td>\n",
       "      <td>2.678249e-07</td>\n",
       "      <td>0.001859</td>\n",
       "      <td>21</td>\n",
       "    </tr>\n",
       "    <tr>\n",
       "      <th>1</th>\n",
       "      <td>1</td>\n",
       "      <td>13:08:52</td>\n",
       "      <td>1</td>\n",
       "      <td>ah</td>\n",
       "      <td>104546</td>\n",
       "      <td>293593</td>\n",
       "      <td>41270</td>\n",
       "      <td>224395</td>\n",
       "      <td>etc</td>\n",
       "      <td>9.373872e-06</td>\n",
       "      <td>NaN</td>\n",
       "      <td>13</td>\n",
       "    </tr>\n",
       "    <tr>\n",
       "      <th>2</th>\n",
       "      <td>1</td>\n",
       "      <td>21:01:48</td>\n",
       "      <td>1</td>\n",
       "      <td>au</td>\n",
       "      <td>84624</td>\n",
       "      <td>107496</td>\n",
       "      <td>33916</td>\n",
       "      <td>312167</td>\n",
       "      <td>adena</td>\n",
       "      <td>2.249729e+00</td>\n",
       "      <td>NaN</td>\n",
       "      <td>21</td>\n",
       "    </tr>\n",
       "    <tr>\n",
       "      <th>3</th>\n",
       "      <td>1</td>\n",
       "      <td>14:37:50</td>\n",
       "      <td>1</td>\n",
       "      <td>ar</td>\n",
       "      <td>78411</td>\n",
       "      <td>226143</td>\n",
       "      <td>80350</td>\n",
       "      <td>34764</td>\n",
       "      <td>adena</td>\n",
       "      <td>6.695623e-03</td>\n",
       "      <td>NaN</td>\n",
       "      <td>14</td>\n",
       "    </tr>\n",
       "    <tr>\n",
       "      <th>4</th>\n",
       "      <td>1</td>\n",
       "      <td>20:32:00</td>\n",
       "      <td>0</td>\n",
       "      <td>ay</td>\n",
       "      <td>50284</td>\n",
       "      <td>44100</td>\n",
       "      <td>17523</td>\n",
       "      <td>276351</td>\n",
       "      <td>etc</td>\n",
       "      <td>5.356498e-08</td>\n",
       "      <td>0.037402</td>\n",
       "      <td>20</td>\n",
       "    </tr>\n",
       "  </tbody>\n",
       "</table>\n",
       "</div>"
      ],
      "text/plain": [
       "   day      time  type server  source_acc_id  source_char_id  target_acc_id  \\\n",
       "0    1  21:40:09     0     bd         115641          202802          42143   \n",
       "1    1  13:08:52     1     ah         104546          293593          41270   \n",
       "2    1  21:01:48     1     au          84624          107496          33916   \n",
       "3    1  14:37:50     1     ar          78411          226143          80350   \n",
       "4    1  20:32:00     0     ay          50284           44100          17523   \n",
       "\n",
       "   target_char_id item_type   item_amount  item_price  hr  \n",
       "0          197398       etc  2.678249e-07    0.001859  21  \n",
       "1          224395       etc  9.373872e-06         NaN  13  \n",
       "2          312167     adena  2.249729e+00         NaN  21  \n",
       "3           34764     adena  6.695623e-03         NaN  14  \n",
       "4          276351       etc  5.356498e-08    0.037402  20  "
      ]
     },
     "execution_count": 10,
     "metadata": {},
     "output_type": "execute_result"
    }
   ],
   "source": [
    "tr_trade.head()"
   ]
  },
  {
   "cell_type": "code",
   "execution_count": 11,
   "metadata": {},
   "outputs": [],
   "source": [
    "tr_trade = tr_trade.drop('time', axis = 1)\n",
    "t1_trade = t1_trade.drop('time', axis = 1)\n",
    "t2_trade = t2_trade.drop('time', axis = 1)"
   ]
  },
  {
   "cell_type": "code",
   "execution_count": 12,
   "metadata": {},
   "outputs": [],
   "source": [
    "# for item in tr_trade.item_type.unique():\n",
    "#     print(item, '\\t', tr_trade.loc[tr_trade.item_type == item, 'hr'].count(), '\\t', tr_trade.loc[(tr_trade.item_type == item)&(tr_trade.item_price.isnull()),'hr'].count())"
   ]
  },
  {
   "cell_type": "code",
   "execution_count": 13,
   "metadata": {},
   "outputs": [],
   "source": [
    "# for item in tr_trade.item_type.unique():\n",
    "#     loc = tr_trade.loc[tr_trade.item_type == item, 'item_amount']\n",
    "#     print(item, '\\t', loc.min(), '\\t', loc.max())"
   ]
  },
  {
   "cell_type": "code",
   "execution_count": 14,
   "metadata": {},
   "outputs": [],
   "source": [
    "tr_trade['source_count'] = None\n",
    "t1_trade['source_count'] = None\n",
    "t2_trade['source_count'] = None\n",
    "\n",
    "tr_trade['target_count'] = None\n",
    "t1_trade['target_count'] = None\n",
    "t2_trade['target_count'] = None"
   ]
  },
  {
   "cell_type": "code",
   "execution_count": 15,
   "metadata": {},
   "outputs": [],
   "source": [
    "for source_acc in tr_trade.source_acc_id.unique():\n",
    "    tr_trade.loc[tr_trade.source_acc_id == source_acc, 'source_count'] = tr_trade.loc[tr_trade.source_acc_id == source_acc, 'item_type'].count()\n",
    "\n",
    "for source_acc in t1_trade.source_acc_id.unique():\n",
    "    t1_trade.loc[t1_trade.source_acc_id == source_acc, 'source_count'] = t1_trade.loc[t1_trade.source_acc_id == source_acc, 'item_type'].count()\n",
    "\n",
    "for source_acc in t2_trade.source_acc_id.unique():\n",
    "    t2_trade.loc[t2_trade.source_acc_id == source_acc, 'source_count'] = t2_trade.loc[t2_trade.source_acc_id == source_acc, 'item_type'].count()"
   ]
  },
  {
   "cell_type": "code",
   "execution_count": 16,
   "metadata": {},
   "outputs": [],
   "source": [
    "for target_acc in tr_trade.target_acc_id.unique():\n",
    "    tr_trade.loc[tr_trade.target_acc_id == target_acc, 'target_count'] = tr_trade.loc[tr_trade.target_acc_id == target_acc, 'item_type'].count()\n",
    "\n",
    "for target_acc in t1_trade.target_acc_id.unique():\n",
    "    t1_trade.loc[t1_trade.target_acc_id == target_acc, 'target_count'] = t1_trade.loc[t1_trade.target_acc_id == target_acc, 'item_type'].count()\n",
    "\n",
    "for target_acc in t2_trade.target_acc_id.unique():\n",
    "    t2_trade.loc[t2_trade.target_acc_id == target_acc, 'target_count'] = t2_trade.loc[t2_trade.target_acc_id == target_acc, 'item_type'].count()"
   ]
  },
  {
   "cell_type": "code",
   "execution_count": null,
   "metadata": {},
   "outputs": [],
   "source": [
    "tr_trade = pd."
   ]
  },
  {
   "cell_type": "code",
   "execution_count": 53,
   "metadata": {},
   "outputs": [],
   "source": [
    "tr_source_trade = tr_trade\n",
    "tr_target_trade = tr_trade\n",
    "        \n",
    "tr_source_trade = tr_source_trade.drop(['target_acc_id', 'source_char_id', 'target_char_id', 'target_count'], axis = 1)\n",
    "tr_target_trade = tr_target_trade.drop(['source_acc_id', 'target_char_id', 'source_char_id', 'source_count'], axis = 1)\n",
    "\n",
    "t1_source_trade = t1_trade\n",
    "t1_target_trade = t1_trade\n",
    "\n",
    "t1_source_trade = t1_source_trade.drop(['target_acc_id', 'source_char_id', 'target_char_id', 'target_count'], axis = 1)\n",
    "t1_target_trade = t1_target_trade.drop(['source_acc_id', 'target_char_id', 'source_char_id', 'source_count'], axis = 1)\n",
    "\n",
    "t2_source_trade = t2_trade\n",
    "t2_target_trade = t2_trade\n",
    "\n",
    "t2_source_trade = t2_source_trade.drop(['target_acc_id', 'source_char_id', 'target_char_id', 'target_count'], axis = 1)\n",
    "t2_target_trade = t2_target_trade.drop(['source_acc_id', 'target_char_id', 'source_char_id', 'source_count'], axis = 1)\n",
    "\n"
   ]
  },
  {
   "cell_type": "code",
   "execution_count": 54,
   "metadata": {},
   "outputs": [],
   "source": [
    "tr_target_trade = tr_target_trade.rename(columns = {'target_acc_id' : 'acc_id', 'target_count' : 'count'})\n",
    "t1_target_trade = t1_target_trade.rename(columns = {'target_acc_id' : 'acc_id', 'target_count' : 'count'})\n",
    "t2_target_trade = t2_target_trade.rename(columns = {'target_acc_id' : 'acc_id', 'target_count' : 'count'})"
   ]
  },
  {
   "cell_type": "code",
   "execution_count": 55,
   "metadata": {},
   "outputs": [],
   "source": [
    "tr_source_trade = tr_source_trade.rename(columns = {'source_acc_id' : 'acc_id', 'source_count' : 'count'})\n",
    "t1_source_trade = t1_source_trade.rename(columns = {'source_acc_id' : 'acc_id', 'source_count' : 'count'})\n",
    "t2_source_trade = t2_source_trade.rename(columns = {'source_acc_id' : 'acc_id', 'source_count' : 'count'})"
   ]
  },
  {
   "cell_type": "code",
   "execution_count": 56,
   "metadata": {
    "scrolled": false
   },
   "outputs": [],
   "source": [
    "tr_source_trade = tr_source_trade.drop(['day', 'type', 'server', 'item_price', 'item_amount', 'hr'], axis = 1)\n",
    "t1_source_trade = t1_source_trade.drop(['day', 'type', 'server', 'item_price', 'item_amount', 'hr'], axis = 1)\n",
    "t2_source_trade = t2_source_trade.drop(['day', 'type', 'server', 'item_price', 'item_amount', 'hr'], axis = 1)"
   ]
  },
  {
   "cell_type": "code",
   "execution_count": 57,
   "metadata": {},
   "outputs": [],
   "source": [
    "tr_target_trade = tr_target_trade.drop(['day', 'type', 'server', 'item_price', 'item_amount', 'hr'], axis = 1)\n",
    "t1_target_trade = t1_target_trade.drop(['day', 'type', 'server', 'item_price', 'item_amount', 'hr'], axis = 1)\n",
    "t2_target_trade = t2_target_trade.drop(['day', 'type', 'server', 'item_price', 'item_amount', 'hr'], axis = 1)"
   ]
  },
  {
   "cell_type": "code",
   "execution_count": 58,
   "metadata": {},
   "outputs": [],
   "source": [
    "tr_source_trade.to_csv('./input/EDA(1)_train_source_trade.csv', index = False)\n",
    "tr_target_trade.to_csv('./input/EDA(1)_train_target_trade.csv', index = False)\n",
    "t1_source_trade.to_csv('./input/EDA(1)_test1_source_trade.csv', index = False)\n",
    "t1_target_trade.to_csv('./input/EDA(1)_test1_target_trade.csv', index = False)\n",
    "t2_source_trade.to_csv('./input/EDA(1)_train_source_trade.csv', index = False)\n",
    "t2_target_trade.to_csv('./input/EDA(1)_train_target_trade.csv', index = False)"
   ]
  },
  {
   "cell_type": "code",
   "execution_count": 59,
   "metadata": {},
   "outputs": [
    {
     "data": {
      "text/html": [
       "<div>\n",
       "<style scoped>\n",
       "    .dataframe tbody tr th:only-of-type {\n",
       "        vertical-align: middle;\n",
       "    }\n",
       "\n",
       "    .dataframe tbody tr th {\n",
       "        vertical-align: top;\n",
       "    }\n",
       "\n",
       "    .dataframe thead th {\n",
       "        text-align: right;\n",
       "    }\n",
       "</style>\n",
       "<table border=\"1\" class=\"dataframe\">\n",
       "  <thead>\n",
       "    <tr style=\"text-align: right;\">\n",
       "      <th></th>\n",
       "      <th>acc_id</th>\n",
       "      <th>item_type</th>\n",
       "      <th>count</th>\n",
       "    </tr>\n",
       "  </thead>\n",
       "  <tbody>\n",
       "    <tr>\n",
       "      <th>0</th>\n",
       "      <td>115641</td>\n",
       "      <td>etc</td>\n",
       "      <td>774</td>\n",
       "    </tr>\n",
       "    <tr>\n",
       "      <th>1</th>\n",
       "      <td>104546</td>\n",
       "      <td>etc</td>\n",
       "      <td>635</td>\n",
       "    </tr>\n",
       "    <tr>\n",
       "      <th>2</th>\n",
       "      <td>84624</td>\n",
       "      <td>adena</td>\n",
       "      <td>96</td>\n",
       "    </tr>\n",
       "    <tr>\n",
       "      <th>3</th>\n",
       "      <td>78411</td>\n",
       "      <td>adena</td>\n",
       "      <td>126</td>\n",
       "    </tr>\n",
       "    <tr>\n",
       "      <th>4</th>\n",
       "      <td>50284</td>\n",
       "      <td>etc</td>\n",
       "      <td>351</td>\n",
       "    </tr>\n",
       "  </tbody>\n",
       "</table>\n",
       "</div>"
      ],
      "text/plain": [
       "   acc_id item_type  count\n",
       "0  115641       etc    774\n",
       "1  104546       etc    635\n",
       "2   84624     adena     96\n",
       "3   78411     adena    126\n",
       "4   50284       etc    351"
      ]
     },
     "execution_count": 59,
     "metadata": {},
     "output_type": "execute_result"
    }
   ],
   "source": [
    "tr_source_trade.head()"
   ]
  },
  {
   "cell_type": "code",
   "execution_count": 60,
   "metadata": {},
   "outputs": [
    {
     "data": {
      "text/plain": [
       "2245196"
      ]
     },
     "execution_count": 60,
     "metadata": {},
     "output_type": "execute_result"
    }
   ],
   "source": [
    "tr_source_trade.shape[0]"
   ]
  },
  {
   "cell_type": "code",
   "execution_count": null,
   "metadata": {},
   "outputs": [],
   "source": []
  }
 ],
 "metadata": {
  "kernelspec": {
   "display_name": "Python 3",
   "language": "python",
   "name": "python3"
  },
  "language_info": {
   "codemirror_mode": {
    "name": "ipython",
    "version": 3
   },
   "file_extension": ".py",
   "mimetype": "text/x-python",
   "name": "python",
   "nbconvert_exporter": "python",
   "pygments_lexer": "ipython3",
   "version": "3.7.3"
  }
 },
 "nbformat": 4,
 "nbformat_minor": 2
}
